{
 "cells": [
  {
   "cell_type": "markdown",
   "id": "10bc10d0-fca3-42f5-be5f-3ec6a79e4bb1",
   "metadata": {},
   "source": [
    "# 18 FEB ASSIGNMENT"
   ]
  },
  {
   "cell_type": "markdown",
   "id": "576c88f2-cc45-4dac-9fb6-856e38fe7953",
   "metadata": {},
   "source": [
    "Q1. What is an API? Give an example, where an API is used in real life."
   ]
  },
  {
   "cell_type": "markdown",
   "id": "344eb421-7d2d-4b1c-a834-f94b570686b7",
   "metadata": {},
   "source": [
    "ANSWER==\n",
    "APIs are used in web applications to connect user-facing front ends with critical back-end functionality and data. APIs are used to deliver material by streaming services such as Spotify and Netflix. APIs are used by automakers such as Tesla to provide software upgrades."
   ]
  },
  {
   "cell_type": "markdown",
   "id": "d513988f-eb93-4d3a-80f1-0b96c6cb7d4e",
   "metadata": {},
   "source": [
    "Q2. Give advantages and disadvantages of using API."
   ]
  },
  {
   "cell_type": "markdown",
   "id": "2cc95ac3-89ee-43c0-9f67-5e0557f9c5bd",
   "metadata": {},
   "source": [
    "ANSWER==\n",
    "ADVANTAGES=APIs empower developers to be more productive by reusing code in complex but repetitive processes. They don't need to start from scratch as the API specifies how to assemble software components in a program. APIs exist to make it easy to interface with other developers' applications.\n",
    "DISADVANTAGES=There is a lot of conveniences and advantages to APIs, but business leaders should also be aware of the disadvantages. As a single point of entry, an API is a gateway and can become a hacker's primary target. Once the API is compromised, all other applications and systems become vulnerable."
   ]
  },
  {
   "cell_type": "markdown",
   "id": "86a37aed-4448-4ed0-b7f9-4988216096bd",
   "metadata": {},
   "source": [
    "Q3. What is a Web API? Differentiate between API and Web API."
   ]
  },
  {
   "cell_type": "markdown",
   "id": "a32e235b-58b4-4866-8a3b-a12dd26f464f",
   "metadata": {},
   "source": [
    "ANSWER==\n",
    "A Web API is an application programming interface for the Web.\n",
    "Web service is used to communicate between two machines on a network. Web API is used as an interface between two different applications for communicating with each other. It uses HTML requests that can be compressed, but XML data cannot be compressed. Data can be compressed."
   ]
  },
  {
   "cell_type": "markdown",
   "id": "b90a2807-990f-450e-90f4-c24fdfed2f68",
   "metadata": {},
   "source": [
    "Q4. Explain REST and SOAP Architecture. Mention shortcomings of SOAP."
   ]
  },
  {
   "cell_type": "markdown",
   "id": "fd7fcee3-6595-4c2a-adc9-8965bd51a418",
   "metadata": {},
   "source": [
    "ANSWER==\n",
    "REST is the set of guide line that offers flexible implementation, whereas SOAP is a protocol with specific requirenment  like XML messaging."
   ]
  },
  {
   "cell_type": "markdown",
   "id": "5278d9db-852d-4bcc-92aa-53ddf7eef6be",
   "metadata": {},
   "source": [
    "Q5. Differentiate between REST and SOAP."
   ]
  },
  {
   "cell_type": "markdown",
   "id": "2e50f42c-418d-4a1b-aa06-7015a8ca7f64",
   "metadata": {},
   "source": [
    "ANSWER==\n",
    "Representational state transfer (REST) is a set of architectural principles. Simple object access protocol (SOAP) is an official protocol maintained by the World Wide Web Consortium (W3C). The main difference is that SOAP is a protocol while REST is not.\n",
    "In rest ,performance is not great a"
   ]
  }
 ],
 "metadata": {
  "kernelspec": {
   "display_name": "Python 3 (ipykernel)",
   "language": "python",
   "name": "python3"
  },
  "language_info": {
   "codemirror_mode": {
    "name": "ipython",
    "version": 3
   },
   "file_extension": ".py",
   "mimetype": "text/x-python",
   "name": "python",
   "nbconvert_exporter": "python",
   "pygments_lexer": "ipython3",
   "version": "3.10.8"
  }
 },
 "nbformat": 4,
 "nbformat_minor": 5
}
